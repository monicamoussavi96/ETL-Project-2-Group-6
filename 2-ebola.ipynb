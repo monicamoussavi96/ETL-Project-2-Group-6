{
 "cells": [
  {
   "cell_type": "code",
   "execution_count": null,
   "metadata": {},
   "outputs": [],
   "source": [
    "import pandas as pd"
   ]
  },
  {
   "cell_type": "code",
   "execution_count": null,
   "metadata": {},
   "outputs": [],
   "source": [
    "csv_path = \"inputs/ebola_2014_2016_clean1.csv\"\n",
    "ebola_df = pd.read_csv(csv_path)\n",
    "ebola_df"
   ]
  },
  {
   "cell_type": "code",
   "execution_count": null,
   "metadata": {},
   "outputs": [],
   "source": [
    "# Get a list of all of our columns for easy reference\n",
    "ebola_df.columns"
   ]
  },
  {
   "cell_type": "code",
   "execution_count": null,
   "metadata": {},
   "outputs": [],
   "source": [
    "# Format the columns and its headers\n",
    "ebola_df = ebola_df.loc[:, ['Date','Country', 'No. of confirmed, probable and suspected cases','No. of confirmed, probable and suspected deaths','Recovered']]\n",
    "ebola_df= ebola_df.rename(columns={\"No. of confirmed, probable and suspected cases\": \"Cases\",\n",
    "                                        \"No. of confirmed, probable and suspected deaths\": \"Deaths\"})\n",
    "ebola_df"
   ]
  },
  {
   "cell_type": "code",
   "execution_count": null,
   "metadata": {},
   "outputs": [],
   "source": [
    "#Clean-up the null values\n",
    "ebola_df['Cases'].fillna(\"0\", inplace = True)\n",
    "ebola_df['Deaths'].fillna(\"0\", inplace = True)\n",
    "\n",
    "ebola_df"
   ]
  },
  {
   "cell_type": "code",
   "execution_count": null,
   "metadata": {},
   "outputs": [],
   "source": [
    "# Standardize country names\n",
    "ebola_df[\"Country\"]= ebola_df[\"Country\"].str.replace(\"United States of America\", \"USA\", case = False) "
   ]
  },
  {
   "cell_type": "code",
   "execution_count": null,
   "metadata": {},
   "outputs": [],
   "source": [
    "# Add the weeknumber, month, year\n",
    "ebola_df['Date'] = pd.to_datetime(ebola_df['Date'])\n",
    "ebola_df['week_number']=ebola_df['Date'].dt.week\n",
    "ebola_df['month']=ebola_df['Date'].dt.month\n",
    "ebola_df['year']=ebola_df['Date'].dt.year\n",
    "ebola_df"
   ]
  },
  {
   "cell_type": "code",
   "execution_count": null,
   "metadata": {},
   "outputs": [],
   "source": [
    "# saving the dataframe \n",
    "ebola_df.to_csv('outputs/ebola1.csv') "
   ]
  }
 ],
 "metadata": {
  "kernelspec": {
   "display_name": "Python 3",
   "language": "python",
   "name": "python3"
  },
  "language_info": {
   "codemirror_mode": {
    "name": "ipython",
    "version": 3
   },
   "file_extension": ".py",
   "mimetype": "text/x-python",
   "name": "python",
   "nbconvert_exporter": "python",
   "pygments_lexer": "ipython3",
   "version": "3.7.4"
  }
 },
 "nbformat": 4,
 "nbformat_minor": 2
}
