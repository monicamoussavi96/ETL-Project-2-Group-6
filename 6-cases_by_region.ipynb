{
 "cells": [
  {
   "cell_type": "code",
   "execution_count": null,
   "metadata": {},
   "outputs": [],
   "source": [
    "# Dependencies\n",
    "import psycopg2 as p\n",
    "from postgres_password import password\n",
    "import pandas as pd\n",
    "import seaborn as sns\n",
    "import matplotlib.pyplot as plt\n",
    "from sqlalchemy import create_engine\n"
   ]
  },
  {
   "cell_type": "code",
   "execution_count": null,
   "metadata": {},
   "outputs": [],
   "source": [
    "# connect to local DB\n",
    "rds_connection_string = \"postgres:MySQL01#@localhost:5432/ETL_Project\"\n",
    "engine = create_engine(f'postgresql://{rds_connection_string}')"
   ]
  },
  {
   "cell_type": "code",
   "execution_count": null,
   "metadata": {},
   "outputs": [],
   "source": [
    "conn=engine"
   ]
  },
  {
   "cell_type": "code",
   "execution_count": null,
   "metadata": {},
   "outputs": [],
   "source": [
    "world_regions_table = pd.read_sql(\"SELECT * FROM world_regions_table\", conn)\n",
    "country_year= pd.read_sql(\"SELECT * FROM country_year\", conn)"
   ]
  },
  {
   "cell_type": "code",
   "execution_count": null,
   "metadata": {},
   "outputs": [],
   "source": [
    "#conn=p.connect(f\"dbname=ETL_Project user=postgres host=localhost password={password}\")\n",
    "world_regions_table = pd.read_sql(\"SELECT * FROM world_regions_table\", conn)\n",
    "country_year= pd.read_sql(\"SELECT * FROM country_year\", conn)"
   ]
  },
  {
   "cell_type": "code",
   "execution_count": null,
   "metadata": {},
   "outputs": [],
   "source": [
    "world_regions_table.head()"
   ]
  },
  {
   "cell_type": "code",
   "execution_count": null,
   "metadata": {},
   "outputs": [],
   "source": [
    "country_year"
   ]
  },
  {
   "cell_type": "code",
   "execution_count": null,
   "metadata": {},
   "outputs": [],
   "source": [
    "combined_data=pd.merge(world_regions_table, country_year, on='country', how=\"inner\")"
   ]
  },
  {
   "cell_type": "code",
   "execution_count": null,
   "metadata": {},
   "outputs": [],
   "source": [
    "combined_data"
   ]
  },
  {
   "cell_type": "code",
   "execution_count": null,
   "metadata": {},
   "outputs": [],
   "source": [
    "cases_data=combined_data.groupby(['region', 'virus_type'], as_index=False)['cases'].sum()"
   ]
  },
  {
   "cell_type": "code",
   "execution_count": null,
   "metadata": {},
   "outputs": [],
   "source": [
    "cases_data"
   ]
  },
  {
   "cell_type": "code",
   "execution_count": null,
   "metadata": {},
   "outputs": [],
   "source": [
    "cases_table=cases_data.rename(columns = {'region':'Region','virus_type':'Virus','cases':'Number of Cases'})"
   ]
  },
  {
   "cell_type": "code",
   "execution_count": null,
   "metadata": {},
   "outputs": [],
   "source": [
    "cases_table"
   ]
  },
  {
   "cell_type": "code",
   "execution_count": null,
   "metadata": {},
   "outputs": [],
   "source": [
    "graph_cases = sns.catplot(x=\"Region\", y=\"Number of Cases\", hue=\"Virus\", data=cases_table, height=3, aspect=2.5, kind=\"bar\", palette=\"muted\")\n",
    "                            \n",
    "graph_cases.set_xticklabels(rotation=0, horizontalalignment='right')\n",
    "graph_cases.set_axis_labels('Regions', 'Number of Cases')\n",
    "plt.title('Number of Cases Reported for Each Virus per Region')\n",
    "plt.savefig(\"plots/Number of Cases Reported for Each Virus per Region.png\")\n",
    "graph_cases"
   ]
  },
  {
   "cell_type": "code",
   "execution_count": null,
   "metadata": {},
   "outputs": [],
   "source": [
    "deaths_data=combined_data.groupby(['region', 'virus_type'], as_index=False)['deaths'].sum()"
   ]
  },
  {
   "cell_type": "code",
   "execution_count": null,
   "metadata": {},
   "outputs": [],
   "source": [
    "deaths_data"
   ]
  },
  {
   "cell_type": "code",
   "execution_count": null,
   "metadata": {},
   "outputs": [],
   "source": [
    "deaths_table=deaths_data.rename(columns = {'region':'Region','virus_type':'Virus','deaths':'Number of Deaths'})"
   ]
  },
  {
   "cell_type": "code",
   "execution_count": null,
   "metadata": {},
   "outputs": [],
   "source": [
    "deaths_table"
   ]
  },
  {
   "cell_type": "code",
   "execution_count": null,
   "metadata": {},
   "outputs": [],
   "source": [
    "graph_deaths = sns.catplot(x=\"Region\", y=\"Number of Deaths\", hue=\"Virus\", data=deaths_table, height=3, aspect=2.5, kind=\"bar\", palette=\"muted\")\n",
    "                            \n",
    "graph_deaths.set_xticklabels(rotation=0, horizontalalignment='right')\n",
    "graph_deaths.set_axis_labels('Regions', 'Number of Deaths')\n",
    "plt.title('Number of Deaths Reported for Each Virus per Region')\n",
    "plt.savefig(\"plots/Number of Deaths Reported for Each Virus per Region.png\")\n",
    "\n",
    "graph_deaths"
   ]
  },
  {
   "cell_type": "code",
   "execution_count": null,
   "metadata": {},
   "outputs": [],
   "source": [
    "recovered_data=combined_data.groupby(['region', 'virus_type'], as_index=False)['recovered'].sum()"
   ]
  },
  {
   "cell_type": "code",
   "execution_count": null,
   "metadata": {},
   "outputs": [],
   "source": [
    "recovered_data"
   ]
  },
  {
   "cell_type": "code",
   "execution_count": null,
   "metadata": {},
   "outputs": [],
   "source": [
    "recovered_table=recovered_data.rename(columns = {'region':'Region','virus_type':'Virus','recovered':'Number of Recovered'})"
   ]
  },
  {
   "cell_type": "code",
   "execution_count": null,
   "metadata": {},
   "outputs": [],
   "source": [
    "recovered_table"
   ]
  },
  {
   "cell_type": "code",
   "execution_count": null,
   "metadata": {},
   "outputs": [],
   "source": [
    "graph_recovered = sns.catplot(x=\"Region\", y=\"Number of Recovered\", hue=\"Virus\", data=recovered_table, height=3, aspect=2.5, kind=\"bar\", palette=\"muted\")\n",
    "                            \n",
    "graph_recovered.set_xticklabels(rotation=0, horizontalalignment='right')\n",
    "graph_recovered.set_axis_labels('Regions', 'Number of Recovered')\n",
    "plt.title('Number of Recovered Reported for Each Virus per Region')\n",
    "plt.savefig(\"plots/Number of Recovered Reported for Each Virus per Region.png\")\n",
    "graph_recovered"
   ]
  }
 ],
 "metadata": {
  "kernelspec": {
   "display_name": "Python 3",
   "language": "python",
   "name": "python3"
  },
  "language_info": {
   "codemirror_mode": {
    "name": "ipython",
    "version": 3
   },
   "file_extension": ".py",
   "mimetype": "text/x-python",
   "name": "python",
   "nbconvert_exporter": "python",
   "pygments_lexer": "ipython3",
   "version": "3.7.4"
  }
 },
 "nbformat": 4,
 "nbformat_minor": 2
}
