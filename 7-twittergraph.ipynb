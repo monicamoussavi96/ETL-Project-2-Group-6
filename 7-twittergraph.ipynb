{
 "cells": [
  {
   "cell_type": "code",
   "execution_count": null,
   "metadata": {},
   "outputs": [],
   "source": [
    "%matplotlib"
   ]
  },
  {
   "cell_type": "code",
   "execution_count": null,
   "metadata": {},
   "outputs": [],
   "source": [
    "import matplotlib.pyplot as plt\n",
    "import numpy as np\n",
    "import pandas as pd\n",
    "import seaborn as sns\n",
    "import datetime as datetime\n",
    "from datetime import datetime"
   ]
  },
  {
   "cell_type": "code",
   "execution_count": null,
   "metadata": {},
   "outputs": [],
   "source": [
    "#Uploading Twitter CSV with datetime, tweets and type of virus\n",
    "#There are 10,000 tweets per virus \n",
    "tweets_df = pd.read_csv(\"inputs/tweets_final.csv\")\n",
    "tweets_df.head()"
   ]
  },
  {
   "cell_type": "code",
   "execution_count": null,
   "metadata": {},
   "outputs": [],
   "source": [
    "#Finding the max time of each virus \n",
    "maxDatetime=tweets_df.groupby([\"Virus\"]).agg({'Datetime':'max'})\n",
    "maxDatetime"
   ]
  },
  {
   "cell_type": "code",
   "execution_count": null,
   "metadata": {},
   "outputs": [],
   "source": [
    "#Finding the min time of each virus \n",
    "minDatetime=tweets_df.groupby([\"Virus\"]).agg({'Datetime':'min'})\n",
    "minDatetime"
   ]
  },
  {
   "cell_type": "code",
   "execution_count": null,
   "metadata": {},
   "outputs": [],
   "source": [
    "#Combining max and min times for each virus \n",
    "df_concat = pd.concat([minDatetime,maxDatetime])\n",
    "df_concat"
   ]
  },
  {
   "cell_type": "code",
   "execution_count": null,
   "metadata": {},
   "outputs": [],
   "source": [
    "#Find time difference of which it takes to reach 10,000 tweets per virus \n",
    "\n",
    "coronaMax = datetime(2020, 3, 2, 23, 59, 59)        \n",
    "coronaMin  = datetime(2020, 3, 2, 23, 36, 29) \n",
    "duration = coronaMax - coronaMin                        \n",
    "duration_in_s = duration.total_seconds() \n",
    "coronaMinutes = divmod(duration_in_s, 60)[0]  \n",
    "coronaMinutes "
   ]
  },
  {
   "cell_type": "code",
   "execution_count": null,
   "metadata": {},
   "outputs": [],
   "source": [
    "ebolaMax = datetime(2016, 3, 22, 23, 59, 52)        \n",
    "ebolaMin  = datetime(2016, 3, 19, 9, 46, 1) \n",
    "duration = ebolaMax - ebolaMin                        \n",
    "duration_in_s = duration.total_seconds() \n",
    "ebolaMinutes = divmod(duration_in_s, 60)[0]  \n",
    "ebolaMinutes"
   ]
  },
  {
   "cell_type": "code",
   "execution_count": null,
   "metadata": {},
   "outputs": [],
   "source": [
    "swineMax = datetime(2009, 7, 6, 23, 59, 41)        \n",
    "swineMin  = datetime(2009, 7, 5, 12, 57, 11) \n",
    "duration = swineMax - swineMin                        \n",
    "duration_in_s = duration.total_seconds() \n",
    "swineMinutes = divmod(duration_in_s, 60)[0]  \n",
    "swineMinutes"
   ]
  },
  {
   "cell_type": "code",
   "execution_count": null,
   "metadata": {},
   "outputs": [],
   "source": [
    "# initialize list of lists \n",
    "virusdata = [['Corona', 23],['Swine', 2102],['Ebola', 5173]] \n",
    "  \n",
    "# Create the pandas DataFrame \n",
    "virus_df = pd.DataFrame(virusdata, columns = ['Virus', 'Minutes']) \n",
    "  \n",
    "# print dataframe. \n",
    "virus_df \n",
    "#hide index \n",
    "virus_df.style.hide_index()"
   ]
  },
  {
   "cell_type": "code",
   "execution_count": null,
   "metadata": {},
   "outputs": [],
   "source": [
    "sns.set(style=\"whitegrid\")\n",
    "\n",
    "# Initialize the matplotlib figure\n",
    "f, ax = plt.subplots(figsize=(16,4))\n",
    "\n",
    "# Plot the graph \n",
    "sns.set_color_codes(\"colorblind\")\n",
    "virus_bar=sns.barplot(x=\"Minutes\", y=\"Virus\", data=virus_df)\n",
    "\n",
    "plt.title('Minutes to Accumulate 10,000 Tweets')\n",
    "plt.tight_layout()\n",
    "plt.savefig(\"plots/timeframe to accumulate 10000 tweets by virus.png\")"
   ]
  },
  {
   "cell_type": "code",
   "execution_count": null,
   "metadata": {},
   "outputs": [],
   "source": []
  }
 ],
 "metadata": {
  "kernelspec": {
   "display_name": "Python 3",
   "language": "python",
   "name": "python3"
  },
  "language_info": {
   "codemirror_mode": {
    "name": "ipython",
    "version": 3
   },
   "file_extension": ".py",
   "mimetype": "text/x-python",
   "name": "python",
   "nbconvert_exporter": "python",
   "pygments_lexer": "ipython3",
   "version": "3.7.4"
  }
 },
 "nbformat": 4,
 "nbformat_minor": 2
}
