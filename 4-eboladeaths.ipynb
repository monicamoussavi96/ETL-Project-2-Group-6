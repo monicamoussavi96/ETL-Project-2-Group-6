{
 "cells": [
  {
   "cell_type": "markdown",
   "metadata": {},
   "source": [
    "# Statistics and Line Graphs of Ebola Virus\n",
    "#### The purpose of this activity is to show what are the top 5 countries that had suffered with Ebola virus over the years, months and weeks"
   ]
  },
  {
   "cell_type": "markdown",
   "metadata": {},
   "source": [
    "### Dependencies and starter code"
   ]
  },
  {
   "cell_type": "code",
   "execution_count": null,
   "metadata": {},
   "outputs": [],
   "source": [
    "%matplotlib notebook"
   ]
  },
  {
   "cell_type": "code",
   "execution_count": null,
   "metadata": {},
   "outputs": [],
   "source": [
    "# Dependencies and Setup\n",
    "import matplotlib.pyplot as plt\n",
    "import pandas as pd\n",
    "import numpy as np\n",
    "import scipy.stats as st\n",
    "from scipy.stats import linregress\n"
   ]
  },
  {
   "cell_type": "code",
   "execution_count": null,
   "metadata": {},
   "outputs": [],
   "source": [
    "# Get the reference files pulling in output file from created from previous notebook.\n",
    "reference = \"outputs/ebola1.csv\"\n",
    "metadata = pd.read_csv(reference)\n",
    "metadata"
   ]
  },
  {
   "cell_type": "markdown",
   "metadata": {},
   "source": [
    "## Statistics"
   ]
  },
  {
   "cell_type": "code",
   "execution_count": null,
   "metadata": {},
   "outputs": [],
   "source": [
    "# Generate a summary statistics table of sum, mean, median, variance, standard deviation in each country\n",
    "\n",
    "#Using groupby \"Country\" and calculating the stats\n",
    "stats=metadata.groupby([\"Country\"])[\"Deaths\"].agg(['sum','mean', 'median', 'var', 'std'])\n",
    "\n",
    "#Label and Format the columns with two decimal place format\n",
    "stats.columns=['Sum','Mean','Median', 'Variance','STD']\n",
    "decimals =['Mean','Median', 'Variance','STD']\n",
    "stats[decimals]=stats[decimals].applymap(lambda x:'{:.2f}'.format(x))\n",
    "stats.to_csv(\"outputs/ebola_stats.csv\")\n",
    "stats.head(20)"
   ]
  },
  {
   "cell_type": "markdown",
   "metadata": {},
   "source": [
    "## Top Five"
   ]
  },
  {
   "cell_type": "code",
   "execution_count": null,
   "metadata": {},
   "outputs": [],
   "source": [
    "# Generate a bar plot by using the total deaths by year\n",
    "deaths=metadata.groupby([\"Country\"])[\"Deaths\"].agg(['sum'])\n",
    "# five largest values in column age \n",
    "top5=deaths.nlargest(5, ['sum']) \n",
    "top5"
   ]
  },
  {
   "cell_type": "code",
   "execution_count": null,
   "metadata": {
    "scrolled": true
   },
   "outputs": [],
   "source": [
    "#Filtering only the 5 top countries with the number of deaths\n",
    "\n",
    "top_five=[\"Liberia\",\"Sierra Leone\", \"Guinea\",\"Nigeria\",\"Mali\"]\n",
    "top_deaths=metadata[metadata.Country.isin(top_five)]\n",
    "top_deaths=top_deaths[[\"Country\",\"Cases\",\"Deaths\",\"Recovered\",\"week_number\",\"month\",\"year\"]]\n",
    "\n",
    "top_deaths.to_csv(\"outputs/ebola_top5.csv\")\n",
    "top_deaths.head(10)"
   ]
  },
  {
   "cell_type": "markdown",
   "metadata": {},
   "source": [
    "#### Ebola Deaths in Week Number"
   ]
  },
  {
   "cell_type": "code",
   "execution_count": null,
   "metadata": {},
   "outputs": [],
   "source": [
    "# plot data\n",
    "fig, ax = plt.subplots(figsize=(10,4))\n",
    "# use unstack()\n",
    "top_deaths.groupby(['week_number','Country']).sum()['Deaths'].unstack().plot(ax=ax)\n",
    "ax.set_xlabel('Week Number')\n",
    "ax.set_ylabel('Number of Deaths')\n",
    "plt.title('Ebola Deaths by Country by Week')\n",
    "plt.savefig(\"plots/Week - EbolaDeathsCountry.png\")"
   ]
  },
  {
   "cell_type": "markdown",
   "metadata": {},
   "source": [
    "#### Ebola Deaths by Months"
   ]
  },
  {
   "cell_type": "code",
   "execution_count": null,
   "metadata": {},
   "outputs": [],
   "source": [
    "# plot data\n",
    "fig, ax = plt.subplots(figsize=(10,4))\n",
    "# use unstack()\n",
    "top_deaths.groupby(['month','Country']).sum()['Deaths'].unstack().plot(ax=ax)\n",
    "ax.set_xlabel('Month Number')\n",
    "ax.set_ylabel('Number of Deaths')\n",
    "plt.title('Ebola Deaths by Country by Month')\n",
    "plt.savefig(\"plots/Months - EbolaDeathsCountry.png\")"
   ]
  }
 ],
 "metadata": {
  "kernelspec": {
   "display_name": "Python 3",
   "language": "python",
   "name": "python3"
  },
  "language_info": {
   "codemirror_mode": {
    "name": "ipython",
    "version": 3
   },
   "file_extension": ".py",
   "mimetype": "text/x-python",
   "name": "python",
   "nbconvert_exporter": "python",
   "pygments_lexer": "ipython3",
   "version": "3.7.4"
  }
 },
 "nbformat": 4,
 "nbformat_minor": 2
}
