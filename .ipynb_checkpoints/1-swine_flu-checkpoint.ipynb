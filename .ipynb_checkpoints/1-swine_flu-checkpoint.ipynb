{
 "cells": [
  {
   "cell_type": "code",
   "execution_count": null,
   "metadata": {},
   "outputs": [],
   "source": [
    "import pandas as pd\n",
    "import datetime"
   ]
  },
  {
   "cell_type": "code",
   "execution_count": null,
   "metadata": {},
   "outputs": [],
   "source": [
    "csv_path = \"inputs/swine_flu1.csv\"\n",
    "# Use Pandas to read data\n",
    "swine_flu = pd.read_csv(csv_path)\n",
    "swine_flu.head()"
   ]
  },
  {
   "cell_type": "code",
   "execution_count": null,
   "metadata": {},
   "outputs": [],
   "source": [
    "# ebola_df['Date'] = pd.to_datetime(df[['Year', 'Month', 'Date']])\n",
    "swine_flu['Date']=pd.to_datetime(swine_flu[['Year', 'Month', 'Day']].rename(columns={'Year': 'year', 'Month': 'month', 'Day': 'day'}))\n",
    "swine_flu.head()"
   ]
  },
  {
   "cell_type": "code",
   "execution_count": null,
   "metadata": {},
   "outputs": [],
   "source": [
    "# Format the columns and its headers\n",
    "swine_flu = swine_flu.loc[:, ['Date','Country', 'Cases','Deaths']]\n",
    "swine_flu"
   ]
  },
  {
   "cell_type": "code",
   "execution_count": null,
   "metadata": {},
   "outputs": [],
   "source": [
    "# Clean up the country names\n",
    "swine_flu[\"Country\"]= swine_flu[\"Country\"].str.replace(\"Antigua and Barbuda\", \"Antigua\", case = False) \n",
    "swine_flu[\"Country\"]= swine_flu[\"Country\"].str.replace(\"Bermuda, UKOT\", \"Bermuda\", case = False) \n",
    "swine_flu[\"Country\"]= swine_flu[\"Country\"].str.replace(\"Bosnia and Hezegovina\", \"Bosnia\", case = False) \n",
    "swine_flu[\"Country\"]= swine_flu[\"Country\"].str.replace(\"British Virgin Islands, UKOT\", \"BVI\", case = False) \n",
    "swine_flu[\"Country\"]= swine_flu[\"Country\"].str.replace(\"Costa Rica*\", \"Costa Rica\", case = False) \n",
    "swine_flu[\"Country\"]= swine_flu[\"Country\"].str.replace(\"France, French Polynesia, FOC\", \"France\", case = False) \n",
    "swine_flu[\"Country\"]= swine_flu[\"Country\"].str.replace(\"France, Martinique, FOC\", \"France\", case = False) \n",
    "swine_flu[\"Country\"]= swine_flu[\"Country\"].str.replace(\"Iran, Islamic Republic\", \"Iran\", case = False) \n",
    "swine_flu[\"Country\"]= swine_flu[\"Country\"].str.replace(\"Korea, Republic of\", \"Korea\", case = False) \n",
    "swine_flu[\"Country\"]= swine_flu[\"Country\"].str.replace(\"Morocco *\", \"Morocco\", case = False) \n",
    "swine_flu[\"Country\"]= swine_flu[\"Country\"].str.replace(\"Korea, Republic of\", \"Korea\", case = False) \n",
    "swine_flu[\"Country\"]= swine_flu[\"Country\"].str.replace(\"The former Yugoslav Republic of Macedonia\", \"Yugoslav\", case = False) \n",
    "swine_flu[\"Country\"]= swine_flu[\"Country\"].str.replace(\"United States of America\", \"USA\", case = False) \n",
    "swine_flu[\"Country\"]= swine_flu[\"Country\"].str.replace(\"United States of America*\", \"USA\", case = False) \n",
    "swine_flu[\"Country\"]= swine_flu[\"Country\"].str.replace(\"West Bank and Gaza Strip\", \"West Bank\", case = False) \n"
   ]
  },
  {
   "cell_type": "code",
   "execution_count": null,
   "metadata": {},
   "outputs": [],
   "source": [
    "recovered = swine_flu[\"Cases\"] - swine_flu[\"Deaths\"]\n",
    "swine_flu[\"Recovered\"] = recovered\n",
    "swine_flu"
   ]
  },
  {
   "cell_type": "code",
   "execution_count": null,
   "metadata": {},
   "outputs": [],
   "source": [
    "# Add the weeknumber, month, year\n",
    "swine_flu['Date'] = pd.to_datetime(swine_flu['Date'])\n",
    "swine_flu['week_number']=swine_flu['Date'].dt.week\n",
    "swine_flu['month']=swine_flu['Date'].dt.month\n",
    "swine_flu['year']=swine_flu['Date'].dt.year\n",
    "swine_flu"
   ]
  },
  {
   "cell_type": "code",
   "execution_count": null,
   "metadata": {},
   "outputs": [],
   "source": [
    "#Clean-up the null values\n",
    "swine_flu['Cases'].fillna(\"0\", inplace = True)\n",
    "swine_flu['Deaths'].fillna(\"0\", inplace = True)\n",
    "swine_flu['Recovered'].fillna(\"0\", inplace = True)\n",
    "swine_flu"
   ]
  },
  {
   "cell_type": "code",
   "execution_count": null,
   "metadata": {},
   "outputs": [],
   "source": [
    "# saving the dataframe \n",
    "swine_flu.to_csv('outputs/swine.csv') "
   ]
  }
 ],
 "metadata": {
  "kernelspec": {
   "display_name": "Python 3",
   "language": "python",
   "name": "python3"
  },
  "language_info": {
   "codemirror_mode": {
    "name": "ipython",
    "version": 3
   },
   "file_extension": ".py",
   "mimetype": "text/x-python",
   "name": "python",
   "nbconvert_exporter": "python",
   "pygments_lexer": "ipython3",
   "version": "3.7.4"
  }
 },
 "nbformat": 4,
 "nbformat_minor": 2
}
